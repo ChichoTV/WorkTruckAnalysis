{
 "cells": [
  {
   "cell_type": "code",
   "execution_count": 71,
   "metadata": {},
   "outputs": [],
   "source": [
    "import ipywidgets as widgets\n",
    "from ipywidgets import interact, interactive\n",
    "import plotly.express as px\n",
    "import plotly.graph_objects as go\n",
    "import pandas as pd\n",
    "import math"
   ]
  },
  {
   "cell_type": "code",
   "execution_count": 72,
   "metadata": {},
   "outputs": [],
   "source": [
    "# We will make a dict containing each aggregated dataframe for easy access. This is based off the columns.\n",
    "dfs={\n",
    "    'Cab Type': pd.read_csv('resources/aggregated_data/cabprice_group.csv').set_index('Cab Type'),\n",
    "#     'Color': pd.read_csv('resources/aggregated_data/color_group.csv').set_index('Color'),\n",
    "    'Drivetrain': pd.read_csv('resources/aggregated_data/drivetrain_group.csv').set_index('Drivetrain'),\n",
    "    'Fuel Type': pd.read_csv('resources/aggregated_data/fuel_group.csv').set_index('Fuel Type'),\n",
    "    'Rear Wheels': pd.read_csv('resources/aggregated_data/wheels_group.csv').set_index('Rear Wheels')\n",
    "}\n",
    "# functions for generating a linear color scale for pie chart (found online here: https://www.oreilly.com/library/view/python-cookbook/0596001673/ch09s11.html).\n",
    "def floatRgb(mag, cmin, cmax):\n",
    "    \"\"\" Return a tuple of floats between 0 and 1 for R, G, and B. \"\"\"\n",
    "    # Normalize to 0-1\n",
    "    try: x = float(mag-cmin)/(cmax-cmin)\n",
    "    except ZeroDivisionError: x = 0.5 # cmax == cmin\n",
    "    blue  = min((max((4*(0.75-x), 0.)), 1.))\n",
    "    red   = min((max((4*(x-0.25), 0.)), 1.))\n",
    "    green = min((max((4*math.fabs(x-0.5)-1., 0.)), 1.))\n",
    "    return red, green, blue\n",
    "\n",
    "def rgb(mag, cmin, cmax):\n",
    "    \"\"\" Return a tuple of integers, as used in AWT/Java plots. \"\"\"\n",
    "    red, green, blue = floatRgb(mag, cmin, cmax)\n",
    "    return int(red*255), int(green*255), int(blue*255)\n",
    "\n",
    "\n",
    "def strRgb(mag, cmin, cmax):\n",
    "    \"\"\" Return a hex string, as used in Tk plots. \"\"\"\n",
    "    return \"#%02x%02x%02x\" % rgb(mag, cmin, cmax)\n"
   ]
  },
  {
   "cell_type": "markdown",
   "metadata": {},
   "source": [
    "## Interactive Price Statistics Based on Selected Attribute."
   ]
  },
  {
   "cell_type": "code",
   "execution_count": 73,
   "metadata": {},
   "outputs": [],
   "source": [
    "# widgets for each plot\n",
    "stats_attribute_dropdown=widgets.Dropdown(options=list(dfs.keys()), description='Select', value='Cab Type')\n",
    "metric_select=widgets.RadioButtons(options=['mean','median'],value='mean',description='Metric',disable=False)\n",
    "pie_attribute_dropdown=widgets.Dropdown(options=list(dfs.keys()), description='Select', value='Cab Type')"
   ]
  },
  {
   "cell_type": "code",
   "execution_count": 74,
   "metadata": {},
   "outputs": [
    {
     "data": {
      "application/vnd.jupyter.widget-view+json": {
       "model_id": "e22131e5514a438db8ec566a59d98769",
       "version_major": 2,
       "version_minor": 0
      },
      "text/plain": [
       "interactive(children=(Dropdown(description='Select', options=('Cab Type', 'Drivetrain', 'Fuel Type', 'Rear Whe…"
      ]
     },
     "metadata": {},
     "output_type": "display_data"
    }
   ],
   "source": [
    "# plotting function the median of the dataframes\n",
    "def stats_plot(key, metric):\n",
    "    \n",
    "    if metric=='Mean':\n",
    "        title_word='Average'\n",
    "    else:\n",
    "        title_word='Median'\n",
    "        \n",
    "    fig=px.bar(dfs[key],x=dfs[key].index,y=metric,title=f'{title_word} Listed Price by {key}',color=metric, labels={metric:f'{title_word} Price ($)'})\n",
    "    fig.show()\n",
    "    \n",
    "# interact(avg_plot, key=widgets.Dropdown(options=list(dfs.keys()), description='Select', value='Cab Type'));\n",
    "int_plot1 = interactive(stats_plot,key=stats_attribute_dropdown, metric=metric_select)\n",
    "output = int_plot1.children[-1]\n",
    "output.layout.height = '500px'\n",
    "int_plot1"
   ]
  },
  {
   "cell_type": "markdown",
   "metadata": {},
   "source": [
    "## Frequency of Each Attribute."
   ]
  },
  {
   "cell_type": "code",
   "execution_count": 75,
   "metadata": {},
   "outputs": [
    {
     "data": {
      "application/vnd.jupyter.widget-view+json": {
       "model_id": "920ccec47c3e47eb9b9eb441a495adce",
       "version_major": 2,
       "version_minor": 0
      },
      "text/plain": [
       "interactive(children=(Dropdown(description='Select', options=('Cab Type', 'Drivetrain', 'Fuel Type', 'Rear Whe…"
      ]
     },
     "metadata": {},
     "output_type": "display_data"
    }
   ],
   "source": [
    "def counts_plot(key):\n",
    "    seg_pull=len(dfs[key])*[0]\n",
    "    color=[]\n",
    "    if len(seg_pull)==2:\n",
    "        seg_pull[0]=.2\n",
    "    else:\n",
    "        seg_pull[0]=.3\n",
    "        seg_pull[1]=.3\n",
    "    for val in dfs[key]['count']:\n",
    "        color.append(strRgb(val,dfs[key]['count'].min(),dfs[key]['count'].max()))\n",
    "#     fig=px.pie(dfs[key],values=sorted_values,names=dfs[key].index,title=f'Percentage by {key}',hole=.3)\n",
    "#     fig.show()\n",
    "    fig = go.Figure(data=[go.Pie(labels=dfs[key].index, values=dfs[key]['count'], marker=dict(colors=color,line=dict(color='black',width=1)), pull=seg_pull,hole=.1)])\n",
    "    fig.show()\n",
    "\n",
    "int_plot2=interactive(counts_plot, key=pie_attribute_dropdown)\n",
    "output2 = int_plot2.children[-1]\n",
    "output2.layout.height = '500px'\n",
    "int_plot2"
   ]
  }
 ],
 "metadata": {
  "kernelspec": {
   "display_name": "Python 3",
   "language": "python",
   "name": "python3"
  },
  "language_info": {
   "codemirror_mode": {
    "name": "ipython",
    "version": 3
   },
   "file_extension": ".py",
   "mimetype": "text/x-python",
   "name": "python",
   "nbconvert_exporter": "python",
   "pygments_lexer": "ipython3",
   "version": "3.7.6"
  }
 },
 "nbformat": 4,
 "nbformat_minor": 4
}
