{
 "cells": [
  {
   "cell_type": "code",
   "execution_count": 27,
   "metadata": {},
   "outputs": [],
   "source": [
    "import ipywidgets as widgets\n",
    "from ipywidgets import interact, interactive\n",
    "import plotly.express as px\n",
    "import pandas as pd"
   ]
  },
  {
   "cell_type": "code",
   "execution_count": 28,
   "metadata": {},
   "outputs": [],
   "source": [
    "# We will make a dict containing each aggregated dataframe for easy access. This is based off the columns.\n",
    "dfs={\n",
    "    'Cab Type': pd.read_csv('resources/aggregated_data/cabprice_group.csv').set_index('Cab Type'),\n",
    "#     'Color': pd.read_csv('resources/aggregated_data/color_group.csv').set_index('Color'),\n",
    "    'Drivetrain': pd.read_csv('resources/aggregated_data/drivetrain_group.csv').set_index('Drivetrain'),\n",
    "    'Fuel Type': pd.read_csv('resources/aggregated_data/fuel_group.csv').set_index('Fuel Type'),\n",
    "    'Rear Wheels': pd.read_csv('resources/aggregated_data/wheels_group.csv').set_index('Rear Wheels')\n",
    "}"
   ]
  },
  {
   "cell_type": "markdown",
   "metadata": {},
   "source": [
    "## Interactive Price Statistics Based on Selected Attribute."
   ]
  },
  {
   "cell_type": "code",
   "execution_count": 29,
   "metadata": {},
   "outputs": [],
   "source": [
    "# widgets for each plot\n",
    "stats_attribute_dropdown=widgets.Dropdown(options=list(dfs.keys()), description='Select', value='Cab Type')\n",
    "metric_select=widgets.RadioButtons(options=['mean','median'],value='mean',description='Metric',disable=False)\n",
    "pie_attribute_dropdown=widgets.Dropdown(options=list(dfs.keys()), description='Select', value='Cab Type')"
   ]
  },
  {
   "cell_type": "code",
   "execution_count": 30,
   "metadata": {},
   "outputs": [
    {
     "data": {
      "application/vnd.jupyter.widget-view+json": {
       "model_id": "b55767e8352144478d8e1a3c94ab7757",
       "version_major": 2,
       "version_minor": 0
      },
      "text/plain": [
       "interactive(children=(Dropdown(description='Select', options=('Cab Type', 'Drivetrain', 'Fuel Type', 'Rear Whe…"
      ]
     },
     "metadata": {},
     "output_type": "display_data"
    }
   ],
   "source": [
    "# plotting function the median of the dataframes\n",
    "def stats_plot(key, metric):\n",
    "    \n",
    "    if metric=='mean':\n",
    "        title_word='Average'\n",
    "    else:\n",
    "        title_word='Median'\n",
    "        \n",
    "    fig=px.bar(dfs[key],x=dfs[key].index,y=metric,title=f'{title_word} Listed Price by {key}',color=metric, labels={metric:f'{title_word} Price ($)'})\n",
    "    fig.show()\n",
    "    \n",
    "# interact(avg_plot, key=widgets.Dropdown(options=list(dfs.keys()), description='Select', value='Cab Type'));\n",
    "int_plot1 = interactive(stats_plot,key=stats_attribute_dropdown, metric=metric_select)\n",
    "output = int_plot1.children[-1]\n",
    "output.layout.height = '500px'\n",
    "int_plot1"
   ]
  },
  {
   "cell_type": "markdown",
   "metadata": {},
   "source": [
    "## Frequency of Each Attribute."
   ]
  },
  {
   "cell_type": "code",
   "execution_count": 32,
   "metadata": {},
   "outputs": [
    {
     "data": {
      "application/vnd.jupyter.widget-view+json": {
       "model_id": "6ae6340830274e5481c30e76cd70ab25",
       "version_major": 2,
       "version_minor": 0
      },
      "text/plain": [
       "interactive(children=(Dropdown(description='Select', options=('Cab Type', 'Drivetrain', 'Fuel Type', 'Rear Whe…"
      ]
     },
     "metadata": {},
     "output_type": "display_data"
    }
   ],
   "source": [
    "def counts_plot(key):\n",
    "    fig=px.pie(dfs[key],values='count',names=dfs[key].index,title=f'Percentage by {key}')\n",
    "    fig.show()\n",
    "\n",
    "int_plot2=interactive(counts_plot, key=pie_attribute_dropdown)\n",
    "output2 = int_plot2.children[-1]\n",
    "output2.layout.height = '500px'\n",
    "int_plot2"
   ]
  },
  {
   "cell_type": "code",
   "execution_count": null,
   "metadata": {},
   "outputs": [],
   "source": []
  }
 ],
 "metadata": {
  "kernelspec": {
   "display_name": "Python 3",
   "language": "python",
   "name": "python3"
  },
  "language_info": {
   "codemirror_mode": {
    "name": "ipython",
    "version": 3
   },
   "file_extension": ".py",
   "mimetype": "text/x-python",
   "name": "python",
   "nbconvert_exporter": "python",
   "pygments_lexer": "ipython3",
   "version": "3.7.6"
  }
 },
 "nbformat": 4,
 "nbformat_minor": 4
}
