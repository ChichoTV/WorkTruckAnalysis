{
 "cells": [
  {
   "cell_type": "code",
   "execution_count": 1,
   "metadata": {},
   "outputs": [],
   "source": [
    "import ipywidgets as widgets\n",
    "from ipywidgets import interact, interactive\n",
    "import plotly.express as px\n",
    "import plotly.graph_objects as go\n",
    "import pandas as pd\n",
    "import math\n",
    "import contextlib"
   ]
  },
  {
   "cell_type": "code",
   "execution_count": 2,
   "metadata": {},
   "outputs": [],
   "source": [
    "# We will make a dict containing each aggregated dataframe for easy access. This is based off the columns.\n",
    "dfs={\n",
    "    'Cab Type': pd.read_csv('resources/aggregated_data/cabprice_group.csv').set_index('Cab Type'),\n",
    "#     'Color': pd.read_csv('resources/aggregated_data/color_group.csv').set_index('Color'),\n",
    "    'Drivetrain': pd.read_csv('resources/aggregated_data/drivetrain_group.csv').set_index('Drivetrain'),\n",
    "    'Fuel Type': pd.read_csv('resources/aggregated_data/fuel_group.csv').set_index('Fuel Type'),\n",
    "    'Rear Wheels': pd.read_csv('resources/aggregated_data/wheels_group.csv').set_index('Rear Wheels')\n",
    "}\n",
    "# functions for generating a linear color scale for pie chart (found online here: https://www.oreilly.com/library/view/python-cookbook/0596001673/ch09s11.html).\n",
    "def floatRgb(mag, cmin, cmax):\n",
    "    \"\"\" Return a tuple of floats between 0 and 1 for R, G, and B. \"\"\"\n",
    "    # Normalize to 0-1\n",
    "    try: x = float(mag-cmin)/(cmax-cmin)\n",
    "    except ZeroDivisionError: x = 0.5 # cmax == cmin\n",
    "    blue  = min((max((4*(0.75-x), 0.)), 1.))\n",
    "    red   = min((max((4*(x-0.25), 0.)), 1.))\n",
    "    green = min((max((4*math.fabs(x-0.5)-1., 0.)), 1.))\n",
    "    return red, green, blue\n",
    "\n",
    "def rgb(mag, cmin, cmax):\n",
    "    \"\"\" Return a tuple of integers, as used in AWT/Java plots. \"\"\"\n",
    "    red, green, blue = floatRgb(mag, cmin, cmax)\n",
    "    return int(red*255), int(green*255), int(blue*255)\n",
    "\n",
    "\n",
    "def strRgb(mag, cmin, cmax):\n",
    "    \"\"\" Return a hex string, as used in Tk plots. \"\"\"\n",
    "    return \"#%02x%02x%02x\" % rgb(mag, cmin, cmax)\n"
   ]
  },
  {
   "cell_type": "markdown",
   "metadata": {},
   "source": [
    "## Price Statistics By Attribute Category."
   ]
  },
  {
   "cell_type": "code",
   "execution_count": 15,
   "metadata": {},
   "outputs": [],
   "source": [
    "# widgets for each plot\n",
    "stats_attribute_dropdown=widgets.Dropdown(options=list(dfs.keys()), description='Select', value='Cab Type')\n",
    "stats_metric_select=widgets.RadioButtons(options=['mean','median'],value='mean',description='Metric',disable=False)\n",
    "dif_metric_select=widgets.RadioButtons(options=['mean','median'],value='mean',description='Metric',disable=False)\n",
    "dif_attribute_dropdown=widgets.Dropdown(options=list(dfs.keys()), description='Select',value='Cab Type')\n",
    "dif_attr_select=widgets.Dropdown(description='Select',options=dfs[dif_attribute_dropdown.value].index)\n",
    "pie_attribute_dropdown=widgets.Dropdown(options=list(dfs.keys()), description='Select', value='Cab Type')"
   ]
  },
  {
   "cell_type": "code",
   "execution_count": 16,
   "metadata": {},
   "outputs": [
    {
     "data": {
      "application/vnd.jupyter.widget-view+json": {
       "model_id": "84f4c00eeacf4bafa1d674a45b886c2f",
       "version_major": 2,
       "version_minor": 0
      },
      "text/plain": [
       "interactive(children=(Dropdown(description='Select', options=('Cab Type', 'Drivetrain', 'Fuel Type', 'Rear Whe…"
      ]
     },
     "metadata": {},
     "output_type": "display_data"
    }
   ],
   "source": [
    "# plotting function the median of the dataframes\n",
    "def stats_plot(key, metric):\n",
    "    \n",
    "    if metric=='mean':\n",
    "        title_word='Average'\n",
    "    else:\n",
    "        title_word='Median'\n",
    "        \n",
    "    fig=px.bar(dfs[key],y=dfs[key].index,x=metric,title=f'{title_word} Listed Price by {key}',orientation='h',color=metric, labels={metric:f'{title_word} Price ($)'})\n",
    "    fig.show()\n",
    "    \n",
    "# interact(avg_plot, key=widgets.Dropdown(options=list(dfs.keys()), description='Select', value='Cab Type'));\n",
    "int_plot1 = interactive(stats_plot,key=stats_attribute_dropdown, metric=stats_metric_select)\n",
    "output = int_plot1.children[-1]\n",
    "output.layout.height = '500px'\n",
    "int_plot1"
   ]
  },
  {
   "cell_type": "markdown",
   "metadata": {},
   "source": [
    "## Price Differentials By Attribute and Metric"
   ]
  },
  {
   "cell_type": "code",
   "execution_count": 19,
   "metadata": {},
   "outputs": [
    {
     "data": {
      "application/vnd.jupyter.widget-view+json": {
       "model_id": "8953f7abd9364bf98fa3ea68336ab158",
       "version_major": 2,
       "version_minor": 0
      },
      "text/plain": [
       "interactive(children=(Dropdown(description='Select', index=1, options=('Cab Type', 'Drivetrain', 'Fuel Type', …"
      ]
     },
     "metadata": {},
     "output_type": "display_data"
    }
   ],
   "source": [
    "# function for generating bar colors based on postive or negative differential. Accepts numerical data types.\n",
    "def color_dif(i):\n",
    "    if i<0:\n",
    "        return 'red'\n",
    "    else:\n",
    "        return 'green'\n",
    "\n",
    "# function for switching text labels based on differential\n",
    "def text_swap(x):\n",
    "    if x>0:\n",
    "        return 'Cheaper'\n",
    "    else:\n",
    "        return 'More Expensive'\n",
    "    \n",
    "    \n",
    "# function for calculating the price differentials. Accepts a key in our dfs dictionary, a metric ('mean' or 'median'), and the attribute to compare from.\n",
    "# returns a tuple containing 3 lists: one with the price differentials, one with the asscoiated attributes, and one with colors for each differntial.\n",
    "def price_dif_calc(key, metric, attribute):\n",
    "    \n",
    "    values = list(dfs[key][metric])\n",
    "    labels = list(dfs[key].index)   \n",
    "    attribute_value = values[labels.index(attribute)]\n",
    "    labels.remove(attribute)\n",
    "    x = [round(attribute_value-val,2) for val in values]\n",
    "    x.remove(0)\n",
    "    colors=[color_dif(val) for val in x]\n",
    "    text=[text_swap(val) for val in x]\n",
    "    return (x, labels, colors, text)\n",
    "\n",
    "def price_dif_plot(key, metric, attribute):\n",
    "    \n",
    "    dif_attr_select.options=list(dfs[key].index)\n",
    "    \n",
    "    if metric=='mean':\n",
    "        title_word='Average'\n",
    "    else:\n",
    "        title_word='Median'\n",
    "    \n",
    "    x,labels,colors,text=price_dif_calc(key, metric, attribute)\n",
    "    fig = go.Figure(data=[go.Bar(\n",
    "    x=x,\n",
    "    y=labels, \n",
    "    orientation='h',\n",
    "    text=text,\n",
    "    textposition='auto',\n",
    "    marker_color=colors)])\n",
    "    fig.update_layout(title_text=f'{title_word} Price Differential Compared to {attribute}')\n",
    "    fig.show()\n",
    "\n",
    "# This is to suppress The ValueError (doesn't affect the functionality of the graphs) until a solution is found.\n",
    "# with contextlib.suppress(ValueError):\n",
    "int_plot2 = interactive(price_dif_plot,key=dif_attribute_dropdown, attribute=dif_attr_select, metric=dif_metric_select)\n",
    "output = int_plot2.children[-1]\n",
    "output.layout.height = '500px'\n",
    "int_plot2"
   ]
  },
  {
   "cell_type": "markdown",
   "metadata": {},
   "source": [
    "## Frequency of Each Attribute Category."
   ]
  },
  {
   "cell_type": "code",
   "execution_count": 33,
   "metadata": {},
   "outputs": [
    {
     "data": {
      "application/vnd.jupyter.widget-view+json": {
       "model_id": "f379381946fe4634a93466ed397082ff",
       "version_major": 2,
       "version_minor": 0
      },
      "text/plain": [
       "interactive(children=(Dropdown(description='Select', options=('Cab Type', 'Drivetrain', 'Fuel Type', 'Rear Whe…"
      ]
     },
     "metadata": {},
     "output_type": "display_data"
    }
   ],
   "source": [
    "def counts_plot(key):\n",
    "    seg_pull=len(dfs[key])*[0]\n",
    "    color=[]\n",
    "    if len(seg_pull)==2:\n",
    "        seg_pull[0]=.2\n",
    "    else:\n",
    "        seg_pull[0]=.3\n",
    "        seg_pull[1]=.3\n",
    "    for val in dfs[key]['count']:\n",
    "        color.append(strRgb(val,dfs[key]['count'].min(),dfs[key]['count'].max()))\n",
    "#     fig=px.pie(dfs[key],values=sorted_values,names=dfs[key].index,title=f'Percentage by {key}',hole=.3)\n",
    "#     fig.show()\n",
    "    fig = go.Figure(data=[go.Pie(labels=dfs[key].index, values=dfs[key]['count'], marker=dict(colors=color,line=dict(color='black',width=1)),textinfo='label+percent', pull=seg_pull,hole=.1)])\n",
    "    fig.show()\n",
    "\n",
    "int_plot3=interactive(counts_plot, key=pie_attribute_dropdown)\n",
    "output3 = int_plot2.children[-1]\n",
    "output3.layout.height = '500px'\n",
    "int_plot3"
   ]
  },
  {
   "cell_type": "code",
   "execution_count": null,
   "metadata": {},
   "outputs": [],
   "source": []
  }
 ],
 "metadata": {
  "kernelspec": {
   "display_name": "Python 3",
   "language": "python",
   "name": "python3"
  },
  "language_info": {
   "codemirror_mode": {
    "name": "ipython",
    "version": 3
   },
   "file_extension": ".py",
   "mimetype": "text/x-python",
   "name": "python",
   "nbconvert_exporter": "python",
   "pygments_lexer": "ipython3",
   "version": "3.7.6"
  }
 },
 "nbformat": 4,
 "nbformat_minor": 4
}
