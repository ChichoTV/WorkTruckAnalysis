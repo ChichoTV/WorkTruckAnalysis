{
 "cells": [
  {
   "cell_type": "code",
   "execution_count": 24,
   "metadata": {},
   "outputs": [],
   "source": [
    "import ipywidgets as widgets\n",
    "from ipywidgets import interact, interactive\n",
    "import plotly.express as px\n",
    "import pandas as pd"
   ]
  },
  {
   "cell_type": "code",
   "execution_count": 25,
   "metadata": {},
   "outputs": [],
   "source": [
    "# We will make a dict containing each aggregated dataframe for easy access. This is based off the columns.\n",
    "dfs={\n",
    "    'Cab Type': pd.read_csv('resources/aggregated_data/cabprice_group.csv').set_index('Cab Type'),\n",
    "#     'Color': pd.read_csv('resources/aggregated_data/color_group.csv').set_index('Color'),\n",
    "    'Drivetrain': pd.read_csv('resources/aggregated_data/drivetrain_group.csv').set_index('Drivetrain'),\n",
    "    'Fuel Type': pd.read_csv('resources/aggregated_data/fuel_group.csv').set_index('Fuel Type'),\n",
    "    'Rear Wheels': pd.read_csv('resources/aggregated_data/wheels_group.csv').set_index('Rear Wheels')\n",
    "}"
   ]
  },
  {
   "cell_type": "markdown",
   "metadata": {},
   "source": [
    "## Mean price based on your selected atribute."
   ]
  },
  {
   "cell_type": "code",
   "execution_count": 28,
   "metadata": {},
   "outputs": [
    {
     "data": {
      "application/vnd.jupyter.widget-view+json": {
       "model_id": "b6eb01e3d5904b3db7cc1e51ce6c16f7",
       "version_major": 2,
       "version_minor": 0
      },
      "text/plain": [
       "interactive(children=(Dropdown(description='Select', options=('Cab Type', 'Drivetrain', 'Fuel Type', 'Rear Whe…"
      ]
     },
     "metadata": {},
     "output_type": "display_data"
    }
   ],
   "source": [
    "# plotting function the median of the dataframes\n",
    "def avg_plot(key):\n",
    "    \n",
    "    fig=px.bar(dfs[key],x=dfs[key].index,y='mean',title=f'Avereage Listed Price by {key}',color='mean', labels={'mean':'Average Price ($)'})\n",
    "    fig.show()\n",
    "    \n",
    "def counts_plot(key):\n",
    "    fig=px.pie(dfs[key],values='count',names=dfs[key].index,title=f'Breakdown by {key}')\n",
    "    fig.show()\n",
    "    \n",
    "# interact(avg_plot, key=widgets.Dropdown(options=list(dfs.keys()), description='Select', value='Cab Type'));\n",
    "interactive_plot = interactive(avg_plot,key=widgets.Dropdown(options=list(dfs.keys()), description='Select', value='Cab Type'))\n",
    "output = interactive_plot.children[-1]\n",
    "output.layout.height = '500px'\n",
    "interactive_plot"
   ]
  },
  {
   "cell_type": "markdown",
   "metadata": {},
   "source": [
    "## Frequency of each attribute."
   ]
  },
  {
   "cell_type": "code",
   "execution_count": 23,
   "metadata": {},
   "outputs": [
    {
     "data": {
      "application/vnd.jupyter.widget-view+json": {
       "model_id": "463845b074884c37a45d35cb4e483ffe",
       "version_major": 2,
       "version_minor": 0
      },
      "text/plain": [
       "interactive(children=(Dropdown(description='Select', options=('Cab Type', 'Drivetrain', 'Fuel Type', 'Rear Whe…"
      ]
     },
     "metadata": {},
     "output_type": "display_data"
    }
   ],
   "source": [
    "int_plot2=interactive(counts_plot, key=widgets.Dropdown(options=list(dfs.keys()), description='Select', value='Cab Type'))\n",
    "output2 = int_plot2.children[-1]\n",
    "output2.layout.height = '500px'\n",
    "int_plot2"
   ]
  },
  {
   "cell_type": "code",
   "execution_count": null,
   "metadata": {},
   "outputs": [],
   "source": []
  }
 ],
 "metadata": {
  "kernelspec": {
   "display_name": "Python 3",
   "language": "python",
   "name": "python3"
  },
  "language_info": {
   "codemirror_mode": {
    "name": "ipython",
    "version": 3
   },
   "file_extension": ".py",
   "mimetype": "text/x-python",
   "name": "python",
   "nbconvert_exporter": "python",
   "pygments_lexer": "ipython3",
   "version": "3.7.6"
  }
 },
 "nbformat": 4,
 "nbformat_minor": 4
}
